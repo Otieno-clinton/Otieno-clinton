{
  "nbformat": 4,
  "nbformat_minor": 0,
  "metadata": {
    "colab": {
      "provenance": [],
      "authorship_tag": "ABX9TyMeikmuvGJdSYPmYDzBtS3M",
      "include_colab_link": true
    },
    "kernelspec": {
      "name": "python3",
      "display_name": "Python 3"
    },
    "language_info": {
      "name": "python"
    }
  },
  "cells": [
    {
      "cell_type": "markdown",
      "metadata": {
        "id": "view-in-github",
        "colab_type": "text"
      },
      "source": [
        "<a href=\"https://colab.research.google.com/github/Otieno-clinton/Otieno-clinton/blob/main/ABTest.ipynb\" target=\"_parent\"><img src=\"https://colab.research.google.com/assets/colab-badge.svg\" alt=\"Open In Colab\"/></a>"
      ]
    },
    {
      "cell_type": "code",
      "execution_count": null,
      "metadata": {
        "id": "O4uAmzQ0FHLD"
      },
      "outputs": [],
      "source": [
        "import pandas as pd\n",
        "import numpy as np\n",
        "import scipy.stats as norm\n",
        "import seaborn as sns\n",
        "import matplotlib.pyplot as plt\n"
      ]
    },
    {
      "cell_type": "code",
      "source": [
        "df_ab_test = pd.read_csv('/content/ab_test_click_data (1).csv')\n",
        "print(df_ab_test.head(10))\n",
        "print(df_ab_test.tail())\n",
        "# print(df_ab_test.info())\n",
        "# print(df_ab_test.describe())\n"
      ],
      "metadata": {
        "colab": {
          "base_uri": "https://localhost:8080/"
        },
        "id": "FnnVYgt5HD49",
        "outputId": "1b915d2c-3e11-432b-a739-cceb88e69c85"
      },
      "execution_count": null,
      "outputs": [
        {
          "output_type": "stream",
          "name": "stdout",
          "text": [
            "   user_id  click group            timestamp\n",
            "0        1      1   exp  2024-01-01 00:00:00\n",
            "1        2      0   exp  2024-01-01 00:01:00\n",
            "2        3      1   exp  2024-01-01 00:02:00\n",
            "3        4      0   exp  2024-01-01 00:03:00\n",
            "4        5      1   exp  2024-01-01 00:04:00\n",
            "5        6      0   exp  2024-01-01 00:05:00\n",
            "6        7      1   exp  2024-01-01 00:06:00\n",
            "7        8      1   exp  2024-01-01 00:07:00\n",
            "8        9      0   exp  2024-01-01 00:08:00\n",
            "9       10      0   exp  2024-01-01 00:09:00\n",
            "       user_id  click group timestamp\n",
            "19995    19996      1   con       NaN\n",
            "19996    19997      1   con       NaN\n",
            "19997    19998      1   con       NaN\n",
            "19998    19999      0   con       NaN\n",
            "19999    20000      1   con       NaN\n"
          ]
        }
      ]
    },
    {
      "cell_type": "code",
      "source": [
        "print(df_ab_test.info())"
      ],
      "metadata": {
        "colab": {
          "base_uri": "https://localhost:8080/"
        },
        "id": "qzocCjQqIL36",
        "outputId": "d1fa7da7-a238-4685-fcd1-0aa944539c44"
      },
      "execution_count": null,
      "outputs": [
        {
          "output_type": "stream",
          "name": "stdout",
          "text": [
            "<class 'pandas.core.frame.DataFrame'>\n",
            "RangeIndex: 20000 entries, 0 to 19999\n",
            "Data columns (total 4 columns):\n",
            " #   Column     Non-Null Count  Dtype \n",
            "---  ------     --------------  ----- \n",
            " 0   user_id    20000 non-null  int64 \n",
            " 1   click      20000 non-null  int64 \n",
            " 2   group      20000 non-null  object\n",
            " 3   timestamp  10000 non-null  object\n",
            "dtypes: int64(2), object(2)\n",
            "memory usage: 625.1+ KB\n",
            "None\n"
          ]
        }
      ]
    },
    {
      "cell_type": "code",
      "source": [
        "df_ab_test.shape"
      ],
      "metadata": {
        "colab": {
          "base_uri": "https://localhost:8080/"
        },
        "id": "9Qeh1dwXIYs0",
        "outputId": "ce3c6882-525b-49ee-b649-9a5bc9338d71"
      },
      "execution_count": null,
      "outputs": [
        {
          "output_type": "execute_result",
          "data": {
            "text/plain": [
              "(20000, 4)"
            ]
          },
          "metadata": {},
          "execution_count": 6
        }
      ]
    },
    {
      "cell_type": "code",
      "source": [
        "df_ab_test.isnull().sum()"
      ],
      "metadata": {
        "colab": {
          "base_uri": "https://localhost:8080/",
          "height": 210
        },
        "id": "alYpeABTIkux",
        "outputId": "32baf238-8ce8-4fdf-804e-81715928d9b1"
      },
      "execution_count": null,
      "outputs": [
        {
          "output_type": "execute_result",
          "data": {
            "text/plain": [
              "user_id          0\n",
              "click            0\n",
              "group            0\n",
              "timestamp    10000\n",
              "dtype: int64"
            ],
            "text/html": [
              "<div>\n",
              "<style scoped>\n",
              "    .dataframe tbody tr th:only-of-type {\n",
              "        vertical-align: middle;\n",
              "    }\n",
              "\n",
              "    .dataframe tbody tr th {\n",
              "        vertical-align: top;\n",
              "    }\n",
              "\n",
              "    .dataframe thead th {\n",
              "        text-align: right;\n",
              "    }\n",
              "</style>\n",
              "<table border=\"1\" class=\"dataframe\">\n",
              "  <thead>\n",
              "    <tr style=\"text-align: right;\">\n",
              "      <th></th>\n",
              "      <th>0</th>\n",
              "    </tr>\n",
              "  </thead>\n",
              "  <tbody>\n",
              "    <tr>\n",
              "      <th>user_id</th>\n",
              "      <td>0</td>\n",
              "    </tr>\n",
              "    <tr>\n",
              "      <th>click</th>\n",
              "      <td>0</td>\n",
              "    </tr>\n",
              "    <tr>\n",
              "      <th>group</th>\n",
              "      <td>0</td>\n",
              "    </tr>\n",
              "    <tr>\n",
              "      <th>timestamp</th>\n",
              "      <td>10000</td>\n",
              "    </tr>\n",
              "  </tbody>\n",
              "</table>\n",
              "</div><br><label><b>dtype:</b> int64</label>"
            ]
          },
          "metadata": {},
          "execution_count": 4
        }
      ]
    },
    {
      "cell_type": "code",
      "source": [
        "print(df_ab_test.describe())"
      ],
      "metadata": {
        "colab": {
          "base_uri": "https://localhost:8080/"
        },
        "id": "LxBoQrVlI4aU",
        "outputId": "58716c43-ae8f-43b8-9307-627b97aea25f"
      },
      "execution_count": null,
      "outputs": [
        {
          "output_type": "stream",
          "name": "stdout",
          "text": [
            "            user_id         click\n",
            "count  20000.000000  20000.000000\n",
            "mean   10000.500000      0.405250\n",
            "std     5773.647028      0.490953\n",
            "min        1.000000      0.000000\n",
            "25%     5000.750000      0.000000\n",
            "50%    10000.500000      0.000000\n",
            "75%    15000.250000      1.000000\n",
            "max    20000.000000      1.000000\n"
          ]
        }
      ]
    },
    {
      "cell_type": "code",
      "source": [
        "print(df_ab_test.groupby(\"group\").sum(\"click\"))"
      ],
      "metadata": {
        "colab": {
          "base_uri": "https://localhost:8080/"
        },
        "id": "aSBVkE9ZJTxp",
        "outputId": "f54b0bf8-86b0-411e-92e6-3e0d9b480b0d"
      },
      "execution_count": null,
      "outputs": [
        {
          "output_type": "stream",
          "name": "stdout",
          "text": [
            "         user_id  click\n",
            "group                  \n",
            "con    150005000   1989\n",
            "exp     50005000   6116\n"
          ]
        }
      ]
    },
    {
      "cell_type": "code",
      "source": [
        "#custom palette for yellow and black\n",
        "palette = {0: 'yellow', 1: 'black'} #Assuming 0 is for no-click and 1 for click\n",
        "\n",
        "#ploting the click distribution for each group with the cusom colors\n",
        "plt.figure(figsize= (10, 6)) # Changed 'figuresize' to 'figsize'\n",
        "ax = sns.countplot(x= 'group', hue= 'click', data= df_ab_test, palette= palette)\n",
        "plt.title('Click Distribution in Experimental and Control groups')\n",
        "plt.xlabel('Group')\n",
        "plt.ylabel('Count')\n",
        "plt.legend(title='Click', labels= ['No','Yes'])\n",
        "\n",
        "#calculting the percentages and annotate the bars\n",
        "Group_counts = df_ab_test.groupby(['group']).size() # This was previously assigned to 'group_counts'\n",
        "group_click = df_ab_test.groupby(['group', 'click']).size().reset_index(name= 'count')\n",
        "\n",
        "for p in ax.patches:\n",
        "    height = p.get_height()\n",
        "    #find the group and click type for the current bar\n",
        "    group = 'exp' if p.get_x() <0.5 else 'con'\n",
        "    click = 1 if p.get_x() % 1 >0.5 else 0\n",
        "    total = Group_counts.loc[group] # Changed 'Group' to 'group'\n",
        "    percentage = 100 * height / total\n",
        "    ax.text(p.get_x() + p.get_width() / 2, height + 5, f'{percentage:.1f}%',ha=\"center\", color='black', fontsize= 10) # Changed '.if' to '.1f' in f-string\n",
        "plt.tight_layout()\n",
        "plt.show()"
      ],
      "metadata": {
        "colab": {
          "base_uri": "https://localhost:8080/",
          "height": 465
        },
        "id": "0MoNKj8qyphx",
        "outputId": "2972f9be-be37-48a3-a892-0a16fe6f8c7e"
      },
      "execution_count": null,
      "outputs": [
        {
          "output_type": "display_data",
          "data": {
            "text/plain": [
              "<Figure size 1000x600 with 1 Axes>"
            ],
            "image/png": "[encoded data removed]"
          },
          "metadata": {}
        }
      ]
    },
    {
      "cell_type": "code",
      "source": [
        "from google.colab import files\n",
        "\n",
        "!ls"
      ],
      "metadata": {
        "colab": {
          "base_uri": "https://localhost:8080/"
        },
        "id": "fgNN4V3GLprv",
        "outputId": "703d3d27-8bba-4729-d952-2309e7a49943"
      },
      "execution_count": null,
      "outputs": [
        {
          "output_type": "stream",
          "name": "stdout",
          "text": [
            "'ab_test_click_data (1).csv'   sample_data\n"
          ]
        }
      ]
    },
    {
      "cell_type": "code",
      "source": [
        "files.download('ab_test_click_data (1).csv')"
      ],
      "metadata": {
        "colab": {
          "base_uri": "https://localhost:8080/",
          "height": 17
        },
        "id": "Dcx7Y7pKNZFg",
        "outputId": "ab2dcd24-5152-4145-f6b5-b10745756eb9"
      },
      "execution_count": null,
      "outputs": [
        {
          "output_type": "display_data",
          "data": {
            "text/plain": [
              "<IPython.core.display.Javascript object>"
            ],
            "application/javascript": [
              "\n",
              "    async function download(id, filename, size) {\n",
              "      if (!google.colab.kernel.accessAllowed) {\n",
              "        return;\n",
              "      }\n",
              "      const div = document.createElement('div');\n",
              "      const label = document.createElement('label');\n",
              "      label.textContent = `Downloading \"${filename}\": `;\n",
              "      div.appendChild(label);\n",
              "      const progress = document.createElement('progress');\n",
              "      progress.max = size;\n",
              "      div.appendChild(progress);\n",
              "      document.body.appendChild(div);\n",
              "\n",
              "      const buffers = [];\n",
              "      let downloaded = 0;\n",
              "\n",
              "      const channel = await google.colab.kernel.comms.open(id);\n",
              "      // Send a message to notify the kernel that we're ready.\n",
              "      channel.send({})\n",
              "\n",
              "      for await (const message of channel.messages) {\n",
              "        // Send a message to notify the kernel that we're ready.\n",
              "        channel.send({})\n",
              "        if (message.buffers) {\n",
              "          for (const buffer of message.buffers) {\n",
              "            buffers.push(buffer);\n",
              "            downloaded += buffer.byteLength;\n",
              "            progress.value = downloaded;\n",
              "          }\n",
              "        }\n",
              "      }\n",
              "      const blob = new Blob(buffers, {type: 'application/binary'});\n",
              "      const a = document.createElement('a');\n",
              "      a.href = window.URL.createObjectURL(blob);\n",
              "      a.download = filename;\n",
              "      div.appendChild(a);\n",
              "      a.click();\n",
              "      div.remove();\n",
              "    }\n",
              "  "
            ]
          },
          "metadata": {}
        },
        {
          "output_type": "display_data",
          "data": {
            "text/plain": [
              "<IPython.core.display.Javascript object>"
            ],
            "application/javascript": [
              "download(\"download_8b2a169a-824c-4273-aa65-e3cb8cf52a6f\", \"ab_test_click_data (1).csv\", 458925)"
            ]
          },
          "metadata": {}
        }
      ]
    }
  ]
}